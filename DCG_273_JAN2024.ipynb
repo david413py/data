{
  "nbformat": 4,
  "nbformat_minor": 0,
  "metadata": {
    "colab": {
      "provenance": [],
      "authorship_tag": "ABX9TyMi7TCH1QEP7DuxK5QOof61",
      "include_colab_link": true
    },
    "kernelspec": {
      "name": "python3",
      "display_name": "Python 3"
    },
    "language_info": {
      "name": "python"
    }
  },
  "cells": [
    {
      "cell_type": "markdown",
      "metadata": {
        "id": "view-in-github",
        "colab_type": "text"
      },
      "source": [
        "<a href=\"https://colab.research.google.com/github/david413py/data/blob/main/DCG_273_JAN2024.ipynb\" target=\"_parent\"><img src=\"https://colab.research.google.com/assets/colab-badge.svg\" alt=\"Open In Colab\"/></a>"
      ]
    },
    {
      "cell_type": "markdown",
      "source": [
        "quiz 1"
      ],
      "metadata": {
        "id": "WgcMOW2Y6Cxg"
      }
    },
    {
      "cell_type": "code",
      "source": [
        "def multiply_numbers(a,b):\n",
        "  return(a*b)\n",
        "c=multiply_numbers(15,10)\n",
        "print(c)"
      ],
      "metadata": {
        "colab": {
          "base_uri": "https://localhost:8080/"
        },
        "id": "I_EnuyTZ6QdZ",
        "outputId": "e58a51e9-b4b5-472a-8463-38b126152980"
      },
      "execution_count": 1,
      "outputs": [
        {
          "output_type": "stream",
          "name": "stdout",
          "text": [
            "150\n"
          ]
        }
      ]
    },
    {
      "cell_type": "markdown",
      "source": [
        "quiz 2"
      ],
      "metadata": {
        "id": "bFnMF9pw8jJz"
      }
    },
    {
      "cell_type": "code",
      "source": [
        "height=str(input(\"input height::\"))\n",
        "if height>=\"150cm\":\n",
        "  print(\"tall enough\")\n",
        "else:\n",
        "    print(\"you are not tall enough\")\n",
        "    print(\"you are not tall enough\")"
      ],
      "metadata": {
        "colab": {
          "base_uri": "https://localhost:8080/"
        },
        "id": "8DzIG2LE8mdx",
        "outputId": "ca928fa8-1912-45b0-ea8a-691a8831f71b"
      },
      "execution_count": 2,
      "outputs": [
        {
          "output_type": "stream",
          "name": "stdout",
          "text": [
            "input height::150cm\n",
            "tall enough\n"
          ]
        }
      ]
    },
    {
      "cell_type": "markdown",
      "source": [
        "quiz 3"
      ],
      "metadata": {
        "id": "WoGzr7A__CjV"
      }
    },
    {
      "cell_type": "code",
      "source": [
        "fruits=[\"apple\",\"banana\",\"cherry\"\"kiwi\",\"mangoes\"]\n",
        "for x in fruits:\n",
        "    print(x)\n"
      ],
      "metadata": {
        "colab": {
          "base_uri": "https://localhost:8080/"
        },
        "id": "un9gh47e_E92",
        "outputId": "37fcf233-41a3-4d0f-ea6d-99e88d79c59a"
      },
      "execution_count": 3,
      "outputs": [
        {
          "output_type": "stream",
          "name": "stdout",
          "text": [
            "apple\n",
            "banana\n",
            "cherrykiwi\n",
            "mangoes\n"
          ]
        }
      ]
    },
    {
      "cell_type": "markdown",
      "source": [
        "quize 4"
      ],
      "metadata": {
        "id": "XA-2ZRuKBlDW"
      }
    },
    {
      "cell_type": "code",
      "source": [
        "david={\"name\":\"david\",\"age\":22,\"gender\":\"male\",\"weight\":56,\"course\":\"python\"}\n",
        "david[\"weight\"]=\"56kg\"\n",
        "print(david)\n"
      ],
      "metadata": {
        "colab": {
          "base_uri": "https://localhost:8080/"
        },
        "id": "qukNB__IBm_1",
        "outputId": "e693a468-6713-44a1-8bb8-99df8f9d73ad"
      },
      "execution_count": 4,
      "outputs": [
        {
          "output_type": "stream",
          "name": "stdout",
          "text": [
            "{'name': 'david', 'age': 22, 'gender': 'male', 'weight': '56kg', 'course': 'python'}\n"
          ]
        }
      ]
    },
    {
      "cell_type": "markdown",
      "source": [
        "quize 5"
      ],
      "metadata": {
        "id": "7fLbUzxzE0Jl"
      }
    },
    {
      "cell_type": "code",
      "source": [
        "x=[\"a\",\"b\",\"c\",\"d\"]\n",
        "y=[2,4,6,8]\n",
        "import matplotlib.pyplot as plt\n",
        "plt.bar(x,y)\n",
        "plt.xlabel(\"x-axis\")\n",
        "plt.ylabel(\"y-axis\")\n",
        "plt.title(\"bar graph\")\n",
        "plt.show()"
      ],
      "metadata": {
        "colab": {
          "base_uri": "https://localhost:8080/",
          "height": 472
        },
        "id": "TR9lVjKBIW8H",
        "outputId": "dcc23cb5-e223-4aef-b311-64c8f7f484b5"
      },
      "execution_count": 5,
      "outputs": [
        {
          "output_type": "display_data",
          "data": {
            "text/plain": [
              "<Figure size 640x480 with 1 Axes>"
            ],
            "image/png": "[encoded data removed]"
          },
          "metadata": {}
        }
      ]
    }
  ]
}